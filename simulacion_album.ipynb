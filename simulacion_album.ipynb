{
 "cells": [
  {
   "cell_type": "code",
   "execution_count": null,
   "id": "55715923",
   "metadata": {},
   "outputs": [
    {
     "name": "stdout",
     "output_type": "stream",
     "text": [
      "\n",
      "Promedio sobres : 976.8\n",
      "Costo promedio : Q 6593.4\n"
     ]
    }
   ],
   "source": [
    "#Algoritmo para un sujeto sin intercambio. \n",
    "import numpy as np\n",
    "import matplotlib.pyplot as plt\n",
    "import pandas as pd \n",
    "from collections import defaultdict\n",
    "\n",
    "#Definicion variables\n",
    "numero_simulaciones=10\n",
    "\n",
    "#Definir listas y otras variables\n",
    "\n",
    "Resultados=[]\n",
    "Costo_tot_sobres=[]\n",
    "\n",
    "\n",
    "for i in range(numero_simulaciones):\n",
    "    estampas_totales = 670\n",
    "    costo_sobre=6.75\n",
    "    costo_libro=15\n",
    "    sobres_comprados = 0\n",
    "\n",
    "    album = []\n",
    "    estampas_faltantes = estampas_totales - len(album)\n",
    "    lista_repetidas = []\n",
    "    intercambiables = len(lista_repetidas)\n",
    "\n",
    "\n",
    "\n",
    "    def abrir_sobre(estampas_sobre=5):\n",
    "        #Hace referencia a que las asignaciones de estas variables modifican las variables globales existentes (definidas fuera de la funcion)\n",
    "        #Cada vez que se invoque la funcion abrir_sobre se esta modificando las variables globales\n",
    "        global sobres_comprados,estampas_faltantes,intercambiables\n",
    "        sobres_comprados +=1\n",
    "        num_estampa= np.random.choice(np.arange(1, 671), size=estampas_sobre, replace=False)   \n",
    "\n",
    "        for estampa in num_estampa:\n",
    "            if estampa not in album:\n",
    "                album.append(estampa)\n",
    "            else:\n",
    "                lista_repetidas.append(estampa)\n",
    "        estampas_faltantes=estampas_totales-len(album)\n",
    "        intercambiables = len(lista_repetidas)\n",
    "\n",
    "\n",
    "    while estampas_faltantes>0:\n",
    "        abrir_sobre()\n",
    "\n",
    "    Resultados.append(sobres_comprados)\n",
    "    Costo_tot_sobres.append(costo_sobre*sobres_comprados)\n",
    "\n",
    "print()\n",
    "Sobres_prom=sum(Resultados[:])/numero_simulaciones\n",
    "print(\"Promedio sobres :\", Sobres_prom)\n",
    "\n",
    "Costo_prom=sum(Costo_tot_sobres[:])/numero_simulaciones\n",
    "print(\"Costo promedio : Q\", Costo_prom)\n",
    "    "
   ]
  },
  {
   "cell_type": "code",
   "execution_count": 120,
   "id": "fc8e8324",
   "metadata": {},
   "outputs": [
    {
     "name": "stdout",
     "output_type": "stream",
     "text": [
      "Jugador 1: \n",
      "Repetidas:  4450\n",
      "Sobres comprados:  1024\n",
      "Por conseguir:  0\n",
      "Costo total: 6912.0\n"
     ]
    }
   ],
   "source": [
    "while estampas_faltantes>0:\n",
    "    abrir_sobre()\n",
    "print(\"Jugador 1: \")\n",
    "print(\"Repetidas: \", intercambiables)\n",
    "print(\"Sobres comprados: \", sobres_comprados)\n",
    "print(\"Por conseguir: \" ,estampas_faltantes)\n",
    "print(\"Costo total:\", costo_sobre*sobres_comprados)\n"
   ]
  },
  {
   "cell_type": "code",
   "execution_count": null,
   "id": "0fb85c1a",
   "metadata": {},
   "outputs": [],
   "source": [
    "    print(\"Simulacion\", i+1)\n",
    "    print(\"Repetidas: \", intercambiables)\n",
    "    print(\"Sobres comprados: \", sobres_comprados)\n",
    "    print(\"Por conseguir: \" ,estampas_faltantes)\n",
    "    print(\"Costo total:\", costo_sobre*sobres_comprados)\n",
    "    print()"
   ]
  }
 ],
 "metadata": {
  "kernelspec": {
   "display_name": "base",
   "language": "python",
   "name": "python3"
  },
  "language_info": {
   "codemirror_mode": {
    "name": "ipython",
    "version": 3
   },
   "file_extension": ".py",
   "mimetype": "text/x-python",
   "name": "python",
   "nbconvert_exporter": "python",
   "pygments_lexer": "ipython3",
   "version": "3.13.5"
  }
 },
 "nbformat": 4,
 "nbformat_minor": 5
}
