{
 "cells": [
  {
   "cell_type": "code",
   "execution_count": 1,
   "id": "cf5c2703",
   "metadata": {},
   "outputs": [],
   "source": [
    "#Algoritmo para un sujeto sin intercambio. \n",
    "import numpy as np\n",
    "import matplotlib.pyplot as plt\n",
    "import pandas as pd \n",
    "from collections import defaultdict"
   ]
  },
  {
   "cell_type": "code",
   "execution_count": 2,
   "id": "670eb58e",
   "metadata": {},
   "outputs": [],
   "source": [
    "#Creación de album como lista \n",
    "estampas_totales = 670\n",
    "album = []\n",
    "estampas_faltantes = estampas_totales - len(album)\n",
    "lista_repetidas = []\n",
    "intercambiables = len(lista_repetidas)\n",
    "sobres_comprados = 0"
   ]
  }
 ],
 "metadata": {
  "kernelspec": {
   "display_name": "base",
   "language": "python",
   "name": "python3"
  },
  "language_info": {
   "codemirror_mode": {
    "name": "ipython",
    "version": 3
   },
   "file_extension": ".py",
   "mimetype": "text/x-python",
   "name": "python",
   "nbconvert_exporter": "python",
   "pygments_lexer": "ipython3",
   "version": "3.13.5"
  }
 },
 "nbformat": 4,
 "nbformat_minor": 5
}
