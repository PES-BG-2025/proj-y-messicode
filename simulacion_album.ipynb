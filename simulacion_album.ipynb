{
 "cells": [
  {
   "cell_type": "code",
   "execution_count": null,
   "id": "cf5c2703",
   "metadata": {},
   "outputs": [],
   "source": [
    "#Algoritmo para un sujeto sin intercambio. \n",
    "import numpy as np\n",
    "import matplotlib.pyplot as plt\n",
    "import pandas as pd \n",
    "from collections import defaultdict"
   ]
  },
  {
   "cell_type": "code",
   "execution_count": null,
   "id": "26d27e6d",
   "metadata": {},
   "outputs": [],
   "source": [
    "#Creación de album como lista \n",
    "estampas_totales = 670\n",
    "album = []\n",
    "estampas_faltantes = estampas_totales - len(album)\n",
    "lista_repetidas = []\n",
    "intercambiables = len(lista_repetidas)\n",
    "sobres_comprados = 0"
   ]
  },
  {
   "cell_type": "code",
   "execution_count": null,
   "id": "93835faf",
   "metadata": {},
   "outputs": [],
   "source": [
    "def abrirsobre(packsize=5):\n",
    "    global sobres_comprados,estampas_faltantes,intercambiables\n",
    "    sobres_comprados +=1"
   ]
  }
 ],
 "metadata": {
  "language_info": {
   "name": "python"
  }
 },
 "nbformat": 4,
 "nbformat_minor": 5
}
